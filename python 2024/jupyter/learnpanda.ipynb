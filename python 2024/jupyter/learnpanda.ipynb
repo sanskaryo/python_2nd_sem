{
 "cells": [
  {
   "cell_type": "code",
   "execution_count": 2,
   "metadata": {},
   "outputs": [
    {
     "name": "stdout",
     "output_type": "stream",
     "text": [
      "<class 'pandas.core.series.Series'>\n",
      "a     54\n",
      "b     46\n",
      "c     46\n",
      "d     45\n",
      "e    244\n",
      "f      6\n",
      "g     76\n",
      "dtype: int64\n"
     ]
    }
   ],
   "source": [
    "import pandas as pd \n",
    "lst = [54,46,46,45,244,6,76]\n",
    "lstindex = ['a','b','c','d','e','f','g']\n",
    "s1 = pd.Series(lst, index = lstindex)\n",
    "print(type(s1))\n",
    "print(s1)"
   ]
  },
  {
   "cell_type": "code",
   "execution_count": 3,
   "metadata": {},
   "outputs": [
    {
     "name": "stdout",
     "output_type": "stream",
     "text": [
      "{'Name': ['Rohan', 'Mohan', 'Sohan'], 'Class': ['MCA', 'B.Tech', 'Law'], 'City': ['Mathura', 'Noida', 'Chd']}\n",
      "====================\n",
      "<class 'pandas.core.frame.DataFrame'>\n",
      "    Name   Class     City\n",
      "0  Rohan     MCA  Mathura\n",
      "1  Mohan  B.Tech    Noida\n",
      "2  Sohan     Law      Chd\n"
     ]
    }
   ],
   "source": [
    "dict = {\"Name\" : [\"Rohan\",\"Mohan\", \"Sohan\"],\n",
    "       \"Class\" :[\"MCA\",\"B.Tech\",\"Law\"],\n",
    "       \"City\" : [\"Mathura\", \"Noida\",\"Chd\"]}\n",
    "print(dict)\n",
    "print(\"====================\")\n",
    "df2 = pd.DataFrame(dict)\n",
    "print(type(df2))\n",
    "print(df2)"
   ]
  },
  {
   "cell_type": "code",
   "execution_count": 4,
   "metadata": {},
   "outputs": [
    {
     "name": "stdout",
     "output_type": "stream",
     "text": [
      "    Class   Name\n",
      "0     MCA  Rohan\n",
      "1  B.Tech  Mohan\n",
      "2     Law  Sohan\n",
      "===============\n",
      "Class    B.Tech\n",
      "Name      Mohan\n",
      "Name: 1, dtype: object\n",
      "===============\n",
      "    Class   Name\n",
      "0     MCA  Rohan\n",
      "1  B.Tech  Mohan\n"
     ]
    }
   ],
   "source": [
    "print(df2[[\"Class\",'Name']])\n",
    "print(\"===============\")\n",
    "print(df2[[\"Class\",'Name']].loc[1])\n",
    "print(\"===============\")\n",
    "print(df2[[\"Class\",'Name']].loc[0:1])"
   ]
  },
  {
   "cell_type": "code",
   "execution_count": 5,
   "metadata": {},
   "outputs": [
    {
     "name": "stdout",
     "output_type": "stream",
     "text": [
      "    Name   Class     City\n",
      "0  Rohan     MCA  Mathura\n",
      "1  Mohan  B.Tech    Noida\n",
      "2  Sohan     Law      Chd\n",
      "<class 'pandas.core.frame.DataFrame'>\n",
      "RangeIndex: 3 entries, 0 to 2\n",
      "Data columns (total 3 columns):\n",
      " #   Column  Non-Null Count  Dtype \n",
      "---  ------  --------------  ----- \n",
      " 0   Name    3 non-null      object\n",
      " 1   Class   3 non-null      object\n",
      " 2   City    3 non-null      object\n",
      "dtypes: object(3)\n",
      "memory usage: 204.0+ bytes\n",
      "None\n"
     ]
    }
   ],
   "source": [
    "print(df2)\n",
    "print(df2.info())"
   ]
  },
  {
   "cell_type": "code",
   "execution_count": 8,
   "metadata": {},
   "outputs": [
    {
     "ename": "NameError",
     "evalue": "name 'df4' is not defined",
     "output_type": "error",
     "traceback": [
      "\u001b[1;31m---------------------------------------------------------------------------\u001b[0m",
      "\u001b[1;31mNameError\u001b[0m                                 Traceback (most recent call last)",
      "Cell \u001b[1;32mIn[8], line 3\u001b[0m\n\u001b[0;32m      1\u001b[0m \u001b[38;5;28;01mimport\u001b[39;00m \u001b[38;5;21;01mmatplotlib\u001b[39;00m\u001b[38;5;21;01m.\u001b[39;00m\u001b[38;5;21;01mpyplot\u001b[39;00m \u001b[38;5;28;01mas\u001b[39;00m \u001b[38;5;21;01mmp\u001b[39;00m\n\u001b[1;32m----> 3\u001b[0m \u001b[43mdf4\u001b[49m\u001b[38;5;241m.\u001b[39mplot(kind \u001b[38;5;241m=\u001b[39m \u001b[38;5;124m'\u001b[39m\u001b[38;5;124mscatter\u001b[39m\u001b[38;5;124m'\u001b[39m, x \u001b[38;5;241m=\u001b[39m \u001b[38;5;124m'\u001b[39m\u001b[38;5;124mDuration\u001b[39m\u001b[38;5;124m'\u001b[39m, y \u001b[38;5;241m=\u001b[39m \u001b[38;5;124m'\u001b[39m\u001b[38;5;124mCalories\u001b[39m\u001b[38;5;124m'\u001b[39m)\n\u001b[0;32m      4\u001b[0m mp\u001b[38;5;241m.\u001b[39mshow()\n\u001b[0;32m      6\u001b[0m df4\u001b[38;5;241m.\u001b[39mplot(kind \u001b[38;5;241m=\u001b[39m \u001b[38;5;124m'\u001b[39m\u001b[38;5;124mscatter\u001b[39m\u001b[38;5;124m'\u001b[39m, x \u001b[38;5;241m=\u001b[39m \u001b[38;5;124m'\u001b[39m\u001b[38;5;124mPulse\u001b[39m\u001b[38;5;124m'\u001b[39m, y \u001b[38;5;241m=\u001b[39m \u001b[38;5;124m'\u001b[39m\u001b[38;5;124mMaxpulse\u001b[39m\u001b[38;5;124m'\u001b[39m)\n",
      "\u001b[1;31mNameError\u001b[0m: name 'df4' is not defined"
     ]
    }
   ],
   "source": [
    "import matplotlib.pyplot as mp\n",
    "\n",
    "df4.plot(kind = 'scatter', x = 'Duration', y = 'Calories')\n",
    "mp.show()\n",
    "\n",
    "df4.plot(kind = 'scatter', x = 'Pulse', y = 'Maxpulse')\n",
    "mp.show()\n",
    "\n",
    "df4.plot(kind = 'scatter', x = 'Maxpulse', y = 'Calories')\n",
    "mp.show()\n",
    "\n",
    "df4.plot(kind = 'scatter', x = 'Duration', y = 'Pulse')\n",
    "mp.show()"
   ]
  }
 ],
 "metadata": {
  "kernelspec": {
   "display_name": "Python 3",
   "language": "python",
   "name": "python3"
  },
  "language_info": {
   "codemirror_mode": {
    "name": "ipython",
    "version": 3
   },
   "file_extension": ".py",
   "mimetype": "text/x-python",
   "name": "python",
   "nbconvert_exporter": "python",
   "pygments_lexer": "ipython3",
   "version": "3.12.0"
  }
 },
 "nbformat": 4,
 "nbformat_minor": 2
}
