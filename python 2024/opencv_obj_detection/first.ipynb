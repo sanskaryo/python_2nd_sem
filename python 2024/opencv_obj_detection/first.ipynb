{
 "cells": [
  {
   "cell_type": "code",
   "execution_count": 3,
   "metadata": {},
   "outputs": [
    {
     "name": "stdout",
     "output_type": "stream",
     "text": [
      "Requirement already satisfied: CMake in c:\\python312\\lib\\site-packages (3.29.0.1)\n",
      "Note: you may need to restart the kernel to use updated packages.\n"
     ]
    }
   ],
   "source": [
    "pip install CMake\n"
   ]
  },
  {
   "cell_type": "code",
   "execution_count": 7,
   "metadata": {},
   "outputs": [
    {
     "name": "stdout",
     "output_type": "stream",
     "text": [
      "Requirement already satisfied: openpyxl in c:\\python312\\lib\\site-packages (3.1.2)Note: you may need to restart the kernel to use updated packages.\n",
      "\n",
      "Requirement already satisfied: et-xmlfile in c:\\python312\\lib\\site-packages (from openpyxl) (1.1.0)\n"
     ]
    }
   ],
   "source": [
    "pip install openpyxl"
   ]
  },
  {
   "cell_type": "code",
   "execution_count": 4,
   "metadata": {},
   "outputs": [
    {
     "name": "stdout",
     "output_type": "stream",
     "text": [
      "Collecting dlib\n",
      "  Using cached dlib-19.24.4.tar.gz (3.3 MB)\n",
      "  Installing build dependencies: started\n",
      "  Installing build dependencies: finished with status 'done'\n",
      "  Getting requirements to build wheel: started\n",
      "  Getting requirements to build wheel: finished with status 'done'\n",
      "  Preparing metadata (pyproject.toml): started\n",
      "  Preparing metadata (pyproject.toml): finished with status 'done'\n",
      "Building wheels for collected packages: dlib\n",
      "  Building wheel for dlib (pyproject.toml): started\n",
      "  Building wheel for dlib (pyproject.toml): finished with status 'error'\n",
      "Failed to build dlib\n",
      "Note: you may need to restart the kernel to use updated packages.\n"
     ]
    },
    {
     "name": "stderr",
     "output_type": "stream",
     "text": [
      "  error: subprocess-exited-with-error\n",
      "  \n",
      "  × Building wheel for dlib (pyproject.toml) did not run successfully.\n",
      "  │ exit code: 1\n",
      "  ╰─> [9 lines of output]\n",
      "      <string>:210: SyntaxWarning: invalid escape sequence '\\('\n",
      "      <string>:211: SyntaxWarning: invalid escape sequence '\\('\n",
      "      <string>:212: SyntaxWarning: invalid escape sequence '\\('\n",
      "      running bdist_wheel\n",
      "      running build\n",
      "      running build_ext\n",
      "      \n",
      "      ERROR: CMake must be installed to build dlib\n",
      "      \n",
      "      [end of output]\n",
      "  \n",
      "  note: This error originates from a subprocess, and is likely not a problem with pip.\n",
      "  ERROR: Failed building wheel for dlib\n",
      "ERROR: Could not build wheels for dlib, which is required to install pyproject.toml-based projects\n"
     ]
    }
   ],
   "source": [
    "pip install dlib"
   ]
  },
  {
   "cell_type": "code",
   "execution_count": 1,
   "metadata": {},
   "outputs": [
    {
     "ename": "ModuleNotFoundError",
     "evalue": "No module named 'dlib'",
     "output_type": "error",
     "traceback": [
      "\u001b[1;31m---------------------------------------------------------------------------\u001b[0m",
      "\u001b[1;31mModuleNotFoundError\u001b[0m                       Traceback (most recent call last)",
      "Cell \u001b[1;32mIn[1], line 2\u001b[0m\n\u001b[0;32m      1\u001b[0m \u001b[38;5;28;01mimport\u001b[39;00m \u001b[38;5;21;01mcv2\u001b[39;00m\n\u001b[1;32m----> 2\u001b[0m \u001b[38;5;28;01mimport\u001b[39;00m \u001b[38;5;21;01mdlib\u001b[39;00m\n\u001b[0;32m      3\u001b[0m \u001b[38;5;28;01mfrom\u001b[39;00m \u001b[38;5;21;01mscipy\u001b[39;00m\u001b[38;5;21;01m.\u001b[39;00m\u001b[38;5;21;01mspatial\u001b[39;00m \u001b[38;5;28;01mimport\u001b[39;00m distance\n\u001b[0;32m      5\u001b[0m \u001b[38;5;66;03m# Function to calculate the Euclidean distance between two points\u001b[39;00m\n",
      "\u001b[1;31mModuleNotFoundError\u001b[0m: No module named 'dlib'"
     ]
    }
   ],
   "source": [
    "import cv2\n",
    "import dlib\n",
    "from scipy.spatial import distance\n",
    "\n",
    "# Function to calculate the Euclidean distance between two points\n",
    "def euclidean_dist(pt1, pt2):\n",
    "    return distance.euclidean(pt1, pt2)\n",
    "\n",
    "# Function to calculate the eye aspect ratio (EAR)\n",
    "def eye_aspect_ratio(eye):\n",
    "    # Compute the Euclidean distances between the two sets of vertical eye landmarks (x, y)-coordinates\n",
    "    A = euclidean_dist(eye[1], eye[5])\n",
    "    B = euclidean_dist(eye[2], eye[4])\n",
    "\n",
    "    # Compute the Euclidean distance between the horizontal eye landmark (x, y)-coordinates\n",
    "    C = euclidean_dist(eye[0], eye[3])\n",
    "\n",
    "    # Compute the eye aspect ratio\n",
    "    ear = (A + B) / (2.0 * C)\n",
    "\n",
    "    return ear\n",
    "\n",
    "# Constants\n",
    "EAR_THRESHOLD = 0.25  # Eye aspect ratio to indicate blink\n",
    "CONSECUTIVE_FRAMES = 20  # Number of consecutive frames for which the EAR must be below the threshold to trigger an alarm\n",
    "\n",
    "# Load face detector and facial landmark predictor\n",
    "detector = dlib.get_frontal_face_detector()\n",
    "predictor = dlib.shape_predictor(\"shape_predictor_68_face_landmarks.dat\")\n",
    "\n",
    "# Load alarm sound (you may need to install the playsound library)\n",
    "# pip install playsound\n",
    "from playsound import playsound\n",
    "\n",
    "# Start webcam\n",
    "cap = cv2.VideoCapture(0)\n",
    "\n",
    "# Initialize variables\n",
    "frame_counter = 0\n",
    "alarm_on = False\n",
    "\n",
    "while True:\n",
    "    ret, frame = cap.read()\n",
    "    gray = cv2.cvtColor(frame, cv2.COLOR_BGR2GRAY)\n",
    "\n",
    "    faces = detector(gray, 0)\n",
    "\n",
    "    for face in faces:\n",
    "        landmarks = predictor(gray, face)\n",
    "        left_eye = []\n",
    "        right_eye = []\n",
    "\n",
    "        for n in range(36, 42):\n",
    "            x = landmarks.part(n).x\n",
    "            y = landmarks.part(n).y\n",
    "            left_eye.append((x, y))\n",
    "\n",
    "        for n in range(42, 48):\n",
    "            x = landmarks.part(n).x\n",
    "            y = landmarks.part(n).y\n",
    "            right_eye.append((x, y))\n",
    "\n",
    "        left_ear = eye_aspect_ratio(left_eye)\n",
    "        right_ear = eye_aspect_ratio(right_eye)\n",
    "\n",
    "        ear = (left_ear + right_ear) / 2.0\n",
    "\n",
    "        if ear < EAR_THRESHOLD:\n",
    "            frame_counter += 1\n",
    "            if frame_counter >= CONSECUTIVE_FRAMES:\n",
    "                if not alarm_on:\n",
    "                    alarm_on = True\n",
    "                    playsound(\"alarm_sound.mp3\")\n",
    "                    print(\"Wake up!\")\n",
    "        else:\n",
    "            frame_counter = 0\n",
    "            alarm_on = False\n",
    "\n",
    "        cv2.putText(frame, \"EAR: {:.2f}\".format(ear), (10, 30), cv2.FONT_HERSHEY_SIMPLEX, 0.7, (0, 255, 0), 2)\n",
    "\n",
    "    cv2.imshow(\"Drowsiness Detection\", frame)\n",
    "\n",
    "    if cv2.waitKey(1) & 0xFF == ord('q'):\n",
    "        break\n",
    "\n",
    "cap.release()\n",
    "cv2.destroyAllWindows()\n"
   ]
  }
 ],
 "metadata": {
  "kernelspec": {
   "display_name": "base",
   "language": "python",
   "name": "python3"
  },
  "language_info": {
   "codemirror_mode": {
    "name": "ipython",
    "version": 3
   },
   "file_extension": ".py",
   "mimetype": "text/x-python",
   "name": "python",
   "nbconvert_exporter": "python",
   "pygments_lexer": "ipython3",
   "version": "3.12.0"
  }
 },
 "nbformat": 4,
 "nbformat_minor": 2
}
