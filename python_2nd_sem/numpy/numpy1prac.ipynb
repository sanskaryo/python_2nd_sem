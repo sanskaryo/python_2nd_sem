{
 "cells": [
  {
   "cell_type": "code",
   "execution_count": 1,
   "metadata": {},
   "outputs": [
    {
     "name": "stdout",
     "output_type": "stream",
     "text": [
      "First array:\n",
      "[[0. 1. 2.]\n",
      " [3. 4. 5.]\n",
      " [6. 7. 8.]]\n"
     ]
    }
   ],
   "source": [
    "import numpy as np \n",
    "a = np.arange(9, dtype = np.float_).reshape(3,3) \n",
    "print ('First array:' )\n",
    "print (a)\n"
   ]
  },
  {
   "cell_type": "code",
   "execution_count": 2,
   "metadata": {},
   "outputs": [
    {
     "name": "stdout",
     "output_type": "stream",
     "text": [
      "Second array:\n",
      "[10 10 10]\n"
     ]
    }
   ],
   "source": [
    "print ('Second array:' )\n",
    "b = np.array([10,10,10]) \n",
    "print (b)"
   ]
  },
  {
   "cell_type": "code",
   "execution_count": 3,
   "metadata": {},
   "outputs": [
    {
     "name": "stdout",
     "output_type": "stream",
     "text": [
      "Add the two arrays:\n",
      "[[10. 11. 12.]\n",
      " [13. 14. 15.]\n",
      " [16. 17. 18.]]\n",
      "Subtract the two arrays:\n",
      "[[-10.  -9.  -8.]\n",
      " [ -7.  -6.  -5.]\n",
      " [ -4.  -3.  -2.]]\n",
      "Multiply the two arrays:\n",
      "[[ 0. 10. 20.]\n",
      " [30. 40. 50.]\n",
      " [60. 70. 80.]]\n"
     ]
    }
   ],
   "source": [
    "print( 'Add the two arrays:' )\n",
    "print (np.add(a,b) )\n",
    "print ('Subtract the two arrays:' )\n",
    "print (np.subtract(a,b))\n",
    "print ('Multiply the two arrays:' )\n",
    "print (np.multiply(a,b) )\n",
    "\n",
    "\n",
    "\n"
   ]
  },
  {
   "cell_type": "code",
   "execution_count": 5,
   "metadata": {},
   "outputs": [
    {
     "name": "stdout",
     "output_type": "stream",
     "text": [
      "Divide the two arrays:\n",
      "[[0.  0.1 0.2]\n",
      " [0.3 0.4 0.5]\n",
      " [0.6 0.7 0.8]]\n",
      "Dot product two arrays:\n",
      "[ 30. 120. 210.]\n"
     ]
    }
   ],
   "source": [
    "print ('Divide the two arrays:')\n",
    "print (np.divide(a,b))\n",
    "print('Dot product two arrays:')\n",
    "print(np.dot(a,b))\n"
   ]
  },
  {
   "cell_type": "code",
   "execution_count": 6,
   "metadata": {},
   "outputs": [
    {
     "name": "stdout",
     "output_type": "stream",
     "text": [
      "[[0.1 0.2 0.3 0.4]\n",
      " [0.5 0.6 0.7 0.8]]\n"
     ]
    }
   ],
   "source": [
    "print(np.empty((2,4)))"
   ]
  },
  {
   "cell_type": "code",
   "execution_count": 7,
   "metadata": {},
   "outputs": [
    {
     "name": "stdout",
     "output_type": "stream",
     "text": [
      "[[3 3]\n",
      " [3 3]]\n"
     ]
    }
   ],
   "source": [
    "print(np.full((2,2), 3)\n",
    ")"
   ]
  }
 ],
 "metadata": {
  "kernelspec": {
   "display_name": "Python 3",
   "language": "python",
   "name": "python3"
  },
  "language_info": {
   "codemirror_mode": {
    "name": "ipython",
    "version": 3
   },
   "file_extension": ".py",
   "mimetype": "text/x-python",
   "name": "python",
   "nbconvert_exporter": "python",
   "pygments_lexer": "ipython3",
   "version": "3.12.0"
  }
 },
 "nbformat": 4,
 "nbformat_minor": 2
}
