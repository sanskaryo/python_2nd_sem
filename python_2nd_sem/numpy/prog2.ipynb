{
 "cells": [
  {
   "cell_type": "code",
   "execution_count": null,
   "metadata": {},
   "outputs": [],
   "source": [
    "#matrix\n",
    "class array:\n",
    "    def __init__(self,lst):\n",
    "        self.last = lst \n",
    "      "
   ]
  },
  {
   "cell_type": "code",
   "execution_count": 1,
   "metadata": {},
   "outputs": [
    {
     "name": "stdout",
     "output_type": "stream",
     "text": [
      "[1 3 4 5 6]\n",
      "arr=array([1, 3, 4, 5, 6])\n",
      "ls=[1, 3, 4, 5, 6]\n"
     ]
    },
    {
     "data": {
      "text/plain": [
       "list"
      ]
     },
     "execution_count": 1,
     "metadata": {},
     "output_type": "execute_result"
    }
   ],
   "source": [
    "import numpy as np\n",
    "ls = [1,3,4,5,6]\n",
    "arr = np.array(ls)\n",
    "print(arr)\n",
    "\n",
    "print(f'{arr=}')\n",
    "print(f'{ls=}')\n",
    "type(arr)\n",
    "type(ls)"
   ]
  },
  {
   "cell_type": "code",
   "execution_count": 2,
   "metadata": {},
   "outputs": [
    {
     "name": "stdout",
     "output_type": "stream",
     "text": [
      "[  1 300   4   5  60]\n"
     ]
    }
   ],
   "source": [
    "ls = [1,300,4,5,60]\n",
    "arr = np.array(ls)\n",
    "print(arr)"
   ]
  },
  {
   "cell_type": "code",
   "execution_count": 11,
   "metadata": {},
   "outputs": [
    {
     "name": "stdout",
     "output_type": "stream",
     "text": [
      "<__main__.array object at 0x0000020AE2423FE0>\n",
      "<__main__.array object at 0x0000020AE22741D0>\n"
     ]
    }
   ],
   "source": [
    "class array :\n",
    "    def __init__(self, lst):\n",
    "        self.lst = lst\n",
    "        \n",
    "lst = [2,3,45,6,7]\n",
    "arr = array(lst)\n",
    "arr\n",
    "print(arr)\n",
    "arr.lst\n",
    "print(str(array(lst)))"
   ]
  },
  {
   "cell_type": "code",
   "execution_count": 3,
   "metadata": {},
   "outputs": [
    {
     "name": "stdout",
     "output_type": "stream",
     "text": [
      "[2 3 45 6 7] <class 'type'>\n"
     ]
    }
   ],
   "source": [
    "class array :\n",
    "    def __init__(self, lst):\n",
    "        self.lst = lst\n",
    "    def __str__(self):\n",
    "        st = str(self.lst).replace(',','')\n",
    "        return st\n",
    "        \n",
    "lst = [2,3,45,6,7]\n",
    "arr = array(lst)\n",
    "print(arr,type)"
   ]
  },
  {
   "cell_type": "code",
   "execution_count": 2,
   "metadata": {},
   "outputs": [
    {
     "name": "stdout",
     "output_type": "stream",
     "text": [
      "\n",
      "Matrix-1\n",
      "\n",
      "1 2 3\n",
      "4 5 6\n",
      "7 8 9\n",
      "\n",
      "Matrix-2\n",
      "\n",
      "7 8 5\n",
      "1 2 4\n",
      "9 6 3\n",
      "\n",
      "Addition\n",
      "8 10 8\n",
      "5 7 10\n",
      "16 14 12\n",
      "\n",
      "Subtraction\n",
      "-6 -6 -2\n",
      "3 3 2\n",
      "-2 2 6\n",
      "\n",
      "Multiplication\n",
      "36 30 22\n",
      "87 78 58\n",
      "138 126 94\n",
      "\n",
      "Dot Multiplication\n",
      "36 30 22\n",
      "87 78 58\n",
      "138 126 94\n",
      "\n",
      "Transpose\n",
      "1 4 7\n",
      "2 5 8\n",
      "3 6 9\n",
      "\n",
      "7 1 9\n",
      "8 2 6\n",
      "5 4 3\n"
     ]
    },
    {
     "ename": "",
     "evalue": "",
     "output_type": "error",
     "traceback": [
      "\u001b[1;31mThe Kernel crashed while executing code in the current cell or a previous cell. \n",
      "\u001b[1;31mPlease review the code in the cell(s) to identify a possible cause of the failure. \n",
      "\u001b[1;31mClick <a href='https://aka.ms/vscodeJupyterKernelCrash'>here</a> for more info. \n",
      "\u001b[1;31mView Jupyter <a href='command:jupyter.viewOutput'>log</a> for further details."
     ]
    }
   ],
   "source": [
    "class Array:\n",
    "    def __init__(self, lst, r=0, c=0):\n",
    "        self.lst = lst\n",
    "        self.r = r\n",
    "        self.c = c\n",
    "        if r != 0 and c != 0:\n",
    "            self.lst = [lst[i:i + c] for i in range(0, len(lst), c)]\n",
    "\n",
    "    def __add__(self, other):\n",
    "        if (self.r, self.c) == (other.r, other.c):\n",
    "            result = [[0] * self.c for _ in range(self.r)]\n",
    "            for i in range(self.r):\n",
    "                for j in range(self.c):\n",
    "                    result[i][j] = self.lst[i][j] + other.lst[i][j]\n",
    "            return Array(result)\n",
    "        else:\n",
    "            print(\"Not Compatible for addition, dimensions of both matrices should be equal\")\n",
    "\n",
    "    def __sub__(self, other):\n",
    "        if (self.r, self.c) == (other.r, other.c):\n",
    "            result = [[0] * self.c for _ in range(self.r)]\n",
    "            for i in range(self.r):\n",
    "                for j in range(self.c):\n",
    "                    result[i][j] = self.lst[i][j] - other.lst[i][j]\n",
    "            return Array(result)\n",
    "        else:\n",
    "            print(\"Not Compatible for subtraction, dimensions of both matrices should be equal\")\n",
    "\n",
    "    def __mul__(self, other):\n",
    "        if self.c == other.r:\n",
    "            result = [[0] * other.c for _ in range(self.r)]\n",
    "            for i in range(self.r):\n",
    "                for j in range(other.c):\n",
    "                    for k in range(self.c):\n",
    "                        result[i][j] += self.lst[i][k] * other.lst[k][j]\n",
    "            return Array(result)\n",
    "        else:\n",
    "            print(\"Not Compatible for multiplication\")\n",
    "            return None \n",
    "    def dot(self, other):\n",
    "        return self.__mul__(other)  # Using the same logic for dot multiplication\n",
    "\n",
    "    def transpose(self):\n",
    "        result = [[0] * self.r for _ in range(self.c)]\n",
    "        for i in range(self.c):\n",
    "            for j in range(self.r):\n",
    "                result[i][j] = self.lst[j][i]\n",
    "        return Array(result)\n",
    "\n",
    "    def disp_mat(self):\n",
    "        for row in self.lst:\n",
    "            print(*row)\n",
    "\n",
    "\n",
    "# Input matrices\n",
    "lst1 = list(map(int, input(\"Enter the elements for matrix 1: \\n\").split()))\n",
    "r1, c1 = list(map(int, input(\"Enter the dimensions for matrix 1: \\n\").split()))\n",
    "arr1 = Array(lst1, r1, c1)\n",
    "\n",
    "lst2 = list(map(int, input(\"Enter the elements for matrix 2: \\n\").split()))\n",
    "r2, c2 = list(map(int, input(\"Enter the dimensions for matrix 2: \\n\").split()))\n",
    "arr2 = Array(lst2, r2, c2)\n",
    "\n",
    "# Display matrices\n",
    "print(\"\\nMatrix-1\\n\")\n",
    "arr1.disp_mat()\n",
    "\n",
    "print(\"\\nMatrix-2\\n\")\n",
    "arr2.disp_mat()\n",
    "\n",
    "# Perform operations\n",
    "out = arr1 + arr2\n",
    "out1 = arr1 * arr2\n",
    "out2 = arr1 - arr2\n",
    "out3 = arr1.dot(arr2)\n",
    "out4 = arr1.transpose()\n",
    "out5 = arr2.transpose()\n",
    "\n",
    "# Display results\n",
    "print(\"\\nAddition\")\n",
    "out.disp_mat()\n",
    "\n",
    "print(\"\\nSubtraction\")\n",
    "out2.disp_mat()\n",
    "\n",
    "print(\"\\nMultiplication\")\n",
    "out1.disp_mat()\n",
    "\n",
    "print(\"\\nDot Multiplication\")\n",
    "out3.disp_mat()\n",
    "\n",
    "print(\"\\nTranspose\")\n",
    "out4.disp_mat()\n",
    "print()\n",
    "\n",
    "out5.disp_mat()\n"
   ]
  }
 ],
 "metadata": {
  "kernelspec": {
   "display_name": "Python 3",
   "language": "python",
   "name": "python3"
  },
  "language_info": {
   "codemirror_mode": {
    "name": "ipython",
    "version": 3
   },
   "file_extension": ".py",
   "mimetype": "text/x-python",
   "name": "python",
   "nbconvert_exporter": "python",
   "pygments_lexer": "ipython3",
   "version": "3.12.0"
  }
 },
 "nbformat": 4,
 "nbformat_minor": 2
}
