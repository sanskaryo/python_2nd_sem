{
 "cells": [
  {
   "cell_type": "code",
   "execution_count": 5,
   "metadata": {},
   "outputs": [
    {
     "name": "stdout",
     "output_type": "stream",
     "text": [
      "[2, 4, 6, 0, 5, 10, 9, 0]\n"
     ]
    },
    {
     "ename": "",
     "evalue": "",
     "output_type": "error",
     "traceback": [
      "\u001b[1;31mThe Kernel crashed while executing code in the current cell or a previous cell. \n",
      "\u001b[1;31mPlease review the code in the cell(s) to identify a possible cause of the failure. \n",
      "\u001b[1;31mClick <a href='https://aka.ms/vscodeJupyterKernelCrash'>here</a> for more info. \n",
      "\u001b[1;31mView Jupyter <a href='command:jupyter.viewOutput'>log</a> for further details."
     ]
    }
   ],
   "source": [
    "class Flatten:\n",
    "    def __init__(self, lst):\n",
    "        self.lst = lst\n",
    "\n",
    "    def flatten(self):\n",
    "        flat_list = self._flatten_recursive(self.lst)\n",
    "        print(flat_list)\n",
    "\n",
    "    def _flatten_recursive(self, nested_lst):\n",
    "        result = []\n",
    "        for i in nested_lst:\n",
    "            if isinstance(i, list):\n",
    "                result.extend(self._flatten_recursive(i))\n",
    "            else:\n",
    "                result.append(i)\n",
    "        return result\n",
    "\n",
    "\n",
    "# Example Usage:\n",
    "nested_list = [1, [2, [3, 4]], 5, [6, 7, [8, 9]]]\n",
    "nested2 = ([2, [4,6,[0]],   [[[[[5]]]]], 10 , [], [9], 0])\n",
    "flattener = Flatten(nested2)\n",
    "\n",
    "flattener.flatten()\n"
   ]
  },
  {
   "cell_type": "code",
   "execution_count": 2,
   "metadata": {},
   "outputs": [
    {
     "name": "stdout",
     "output_type": "stream",
     "text": [
      "Original Nested List:\n",
      "[2, [4, 6, [0]], [[[[[5]]]]], 10, [], [9], 0]\n",
      "\n",
      "Flattened List:\n",
      "[2, 4, 6, 0, 5, 10, 9, 0]\n"
     ]
    }
   ],
   "source": [
    "class Flatten:\n",
    "    def __init__(self, lst, r=0, c=0):\n",
    "        self.lst = lst\n",
    "        self.c = c\n",
    "        self.r = r\n",
    "\n",
    "        if r != 0 and c != 0:\n",
    "            M = []\n",
    "            tmp = []\n",
    "            for i in self.lst:\n",
    "                tmp.append(i)\n",
    "                if len(tmp) == c:\n",
    "                    M.append(tmp)\n",
    "                    tmp = []\n",
    "\n",
    "            self.lst = M\n",
    "\n",
    "    def flatten(self):\n",
    "        flat_list = []\n",
    "\n",
    "        def flatten_recursive(sublist):\n",
    "            for item in sublist:\n",
    "                if isinstance(item, list):\n",
    "                    flatten_recursive(item)\n",
    "                else:\n",
    "                    flat_list.append(item)\n",
    "\n",
    "        flatten_recursive(self.lst)\n",
    "        return flat_list\n",
    "\n",
    "\n",
    "# Example usage:\n",
    "nested_list = ([2, [4,6,[0]],   [[[[[5]]]]], 10 , [], [9], 0])\n",
    "flatten_obj = Flatten(nested_list)\n",
    "result = flatten_obj.flatten()\n",
    "\n",
    "print(\"Original Nested List:\")\n",
    "print(nested_list)\n",
    "\n",
    "print(\"\\nFlattened List:\")\n",
    "print(result)\n"
   ]
  }
 ],
 "metadata": {
  "kernelspec": {
   "display_name": "Python 3",
   "language": "python",
   "name": "python3"
  },
  "language_info": {
   "codemirror_mode": {
    "name": "ipython",
    "version": 3
   },
   "file_extension": ".py",
   "mimetype": "text/x-python",
   "name": "python",
   "nbconvert_exporter": "python",
   "pygments_lexer": "ipython3",
   "version": "3.12.0"
  }
 },
 "nbformat": 4,
 "nbformat_minor": 2
}
