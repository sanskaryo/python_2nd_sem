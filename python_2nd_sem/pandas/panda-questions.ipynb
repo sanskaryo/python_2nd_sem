{
 "cells": [
  {
   "cell_type": "code",
   "execution_count": null,
   "metadata": {},
   "outputs": [],
   "source": [
    "# practice problems using the Pandas module in Python:\n",
    "# 1. Load Data and Basic Operations:\n",
    "# o Load a CSV file into a DataFrame using Pandas.\n",
    "# o Display the first 5 rows of the DataFrame.\n",
    "# o Display the column names of the DataFrame.\n",
    "# o Check the shape of the DataFrame (number of rows and columns).\n",
    "# o Find the data types of each column in the DataFrame"
   ]
  }
 ],
 "metadata": {
  "language_info": {
   "name": "python"
  }
 },
 "nbformat": 4,
 "nbformat_minor": 2
}
