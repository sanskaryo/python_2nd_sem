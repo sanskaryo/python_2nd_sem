{
 "cells": [
  {
   "cell_type": "code",
   "execution_count": 1,
   "metadata": {},
   "outputs": [
    {
     "name": "stdout",
     "output_type": "stream",
     "text": [
      "  Emp id   Names  Age  Salary\n",
      "0    E01    piku   44   45000\n",
      "1    E02   saket   25   55000\n",
      "2    E03   bhola   60   65000\n",
      "3    E04  hayena   26  100000\n"
     ]
    }
   ],
   "source": [
    "import pandas as pd\n",
    "\n",
    "data5 = {\"Emp id\" : [\"E01\",\"E02\",\"E03\",\"E04\",\"E05\"],\n",
    "         \"Names\" : [\"piku\",\"saket\",\"bhola\",\"hayena\", \"shelly\"],\n",
    "         \"Age\" : [44,25,60,26,34,]}\n",
    "\n",
    "data2 =  {\"Emp id\" : [\"E01\",\"E02\",\"E03\",\"E04\",\"E07\"],\n",
    "         \"Salary\" : [45000,55000,65000,100000,90000]}\n",
    "                     \n",
    "df = pd.DataFrame(data5)\n",
    "df2 = pd.DataFrame(data2)\n",
    "# print(df)\n",
    "# print()\n",
    "# df2\n",
    "\n",
    "print(pd.merge(df,df2,on = \"Emp id\")) # merge vo rhi h jo same h , common h "
   ]
  },
  {
   "cell_type": "code",
   "execution_count": 2,
   "metadata": {},
   "outputs": [
    {
     "name": "stdout",
     "output_type": "stream",
     "text": [
      "  Emp id   Names  Age    Salary\n",
      "0    E01    piku   44   45000.0\n",
      "1    E02   saket   25   55000.0\n",
      "2    E03   bhola   60   65000.0\n",
      "3    E04  hayena   26  100000.0\n",
      "4    E05  shelly   34       NaN\n"
     ]
    }
   ],
   "source": [
    "print(pd.merge(left = df,right = df2,on = \"Emp id\" , how = \"left\")) #left join left ka sarea aur right ka jo nhi h usme nan"
   ]
  },
  {
   "cell_type": "code",
   "execution_count": null,
   "metadata": {},
   "outputs": [],
   "source": []
  },
  {
   "cell_type": "code",
   "execution_count": 5,
   "metadata": {},
   "outputs": [
    {
     "name": "stdout",
     "output_type": "stream",
     "text": [
      "  Emp id      Names  Age\n",
      "0    E01       piku   44\n",
      "1    E02      saket   25\n",
      "2    E03      bhola   60\n",
      "3    E04     hayena   26\n",
      "4    E05     shelly   34\n",
      "0    E01    pikachu   44\n",
      "1    E02     chummu   25\n",
      "2    E03  shaktiman   60\n",
      "3    E04      dhola   26\n",
      "4    E07     shonty   34\n"
     ]
    }
   ],
   "source": [
    "import pandas as pd\n",
    "\n",
    "data5 = {\"Emp id\" : [\"E01\",\"E02\",\"E03\",\"E04\",\"E05\"],\n",
    "         \"Names\" : [\"piku\",\"saket\",\"bhola\",\"hayena\", \"shelly\"],\n",
    "         \"Age\" : [44,25,60,26,34,]}\n",
    "\n",
    "data6 = {\"Emp id\" : [\"E01\",\"E02\",\"E03\",\"E04\",\"E07\"],\n",
    "         \"Names\" : [\"pikachu\",\"chummu\",\"shaktiman\",\"dhola\", \"shonty\"],\n",
    "         \"Age\" : [44,25,60,26,34,]}\n",
    "\n",
    "df1 = pd.DataFrame(data5)\n",
    "df2 = pd.DataFrame(data6)\n",
    "\n",
    "\n",
    "\n",
    "print(pd.concat([df1,df2]))"
   ]
  },
  {
   "cell_type": "code",
   "execution_count": 10,
   "metadata": {},
   "outputs": [
    {
     "name": "stdout",
     "output_type": "stream",
     "text": [
      "    fruits  Price  Quantity\n",
      "0    apple     80        10\n",
      "1   falseb    500         5\n",
      "2   papita     50        15\n",
      "3  sitafal     48        20\n",
      "    fruits  Price  Quantity\n",
      "0    apple    120        10\n",
      "1   falseb    450       150\n",
      "2   papita     50        50\n",
      "3  sitafal     48        45\n",
      "         Price  Quantity\n",
      "0 self    80.0       NaN\n",
      "  other  120.0       NaN\n",
      "1 self   500.0       5.0\n",
      "  other  450.0     150.0\n",
      "2 self     NaN      15.0\n",
      "  other    NaN      50.0\n",
      "3 self     NaN      20.0\n",
      "  other    NaN      45.0\n"
     ]
    }
   ],
   "source": [
    "import pandas as pd\n",
    "\n",
    "dict = {\"fruits\" : [\"apple\",\"falseb\", \"papita\",\"sitafal\"],\n",
    "        \"Price\" : [80,500,50,48],\n",
    "        \"Quantity\" : [10,5,15,20]\n",
    "        }\n",
    "df = pd.DataFrame(dict)\n",
    "print(df)\n",
    "\n",
    "df1 = df.copy()\n",
    "\n",
    "\n",
    "df1.loc[0,\"Price\"] = 120\n",
    "df1.loc[1,\"Price\"] = 450\n",
    "df1.loc[2,\"Quantity\"] = 50\n",
    "df1.loc[1,\"Quantity\"] = 150\n",
    "df1.loc[3,\"Quantity\"] = 45\n",
    "\n",
    "print(df1)\n",
    "\n",
    "print(df.compare(df1,align_axis=0))\n",
    "\n"
   ]
  },
  {
   "cell_type": "code",
   "execution_count": null,
   "metadata": {},
   "outputs": [],
   "source": [
    "dict = {\"keys\" : [\"kevin\",\"john\",\"mandy\"]}"
   ]
  },
  {
   "cell_type": "code",
   "execution_count": 12,
   "metadata": {},
   "outputs": [
    {
     "name": "stdout",
     "output_type": "stream",
     "text": [
      "    Name  Math  Science\n",
      "0  Alice    80       85\n",
      "1    Bob    75       82\n",
      "2  Cathy    90       88\n",
      "\n",
      "    Name  Subject  Score\n",
      "0  Alice     Math     80\n",
      "1    Bob     Math     75\n",
      "2  Cathy     Math     90\n",
      "3  Alice  Science     85\n",
      "4    Bob  Science     82\n",
      "5  Cathy  Science     88\n"
     ]
    }
   ],
   "source": [
    "import pandas as pd\n",
    "\n",
    "# Create a sample DataFrame\n",
    "data = {\n",
    "    'Name': ['Alice', 'Bob', 'Cathy'],\n",
    "    'Math': [80, 75, 90],\n",
    "    'Science': [85, 82, 88]\n",
    "}\n",
    "df = pd.DataFrame(data)\n",
    "\n",
    "# Melting the DataFrame\n",
    "melted_df = pd.melt(df, id_vars=['Name'], value_vars=['Math', 'Science'], var_name='Subject', value_name='Score')\n",
    "print(df)\n",
    "print()\n",
    "print(melted_df)"
   ]
  }
 ],
 "metadata": {
  "kernelspec": {
   "display_name": "Python 3",
   "language": "python",
   "name": "python3"
  },
  "language_info": {
   "codemirror_mode": {
    "name": "ipython",
    "version": 3
   },
   "file_extension": ".py",
   "mimetype": "text/x-python",
   "name": "python",
   "nbconvert_exporter": "python",
   "pygments_lexer": "ipython3",
   "version": "3.12.0"
  }
 },
 "nbformat": 4,
 "nbformat_minor": 2
}
