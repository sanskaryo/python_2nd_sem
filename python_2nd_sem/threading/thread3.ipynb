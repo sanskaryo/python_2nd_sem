{
 "cells": [
  {
   "cell_type": "code",
   "execution_count": 1,
   "metadata": {},
   "outputs": [
    {
     "name": "stdout",
     "output_type": "stream",
     "text": [
      "125\n",
      "1000\n"
     ]
    }
   ],
   "source": [
    "import threading\n",
    "\n",
    "def print_cube(number):\n",
    "  \"\"\"Print the cube of a number.\"\"\"\n",
    "  print(number * number * number)\n",
    "\n",
    "if __name__ == \"__main__\":\n",
    "  # Create two threads.\n",
    "  thread1 = threading.Thread(target=print_cube, args=(5,))\n",
    "  thread2 = threading.Thread(target=print_cube, args=(10,))\n",
    "\n",
    "  # Start the threads.\n",
    "  thread1.start()\n",
    "  thread2.start()\n",
    "\n",
    "  # Wait for the threads to finish.\n",
    "  thread1.join()\n",
    "  thread2.join()"
   ]
  },
  {
   "cell_type": "code",
   "execution_count": 2,
   "metadata": {},
   "outputs": [
    {
     "name": "stdout",
     "output_type": "stream",
     "text": [
      "Timer expired!\n"
     ]
    }
   ],
   "source": [
    "import threading\n",
    "\n",
    "def timer_expired():\n",
    "    print(\"Timer expired!\")\n",
    "\n",
    "def main():\n",
    "    delay = int(input(\"Enter the delay time in seconds: \"))\n",
    "    timer = threading.Timer(delay, timer_expired)\n",
    "    timer.start()\n",
    "\n",
    "if __name__ == \"__main__\":\n",
    "    main()"
   ]
  }
 ],
 "metadata": {
  "kernelspec": {
   "display_name": "Python 3",
   "language": "python",
   "name": "python3"
  },
  "language_info": {
   "codemirror_mode": {
    "name": "ipython",
    "version": 3
   },
   "file_extension": ".py",
   "mimetype": "text/x-python",
   "name": "python",
   "nbconvert_exporter": "python",
   "pygments_lexer": "ipython3",
   "version": "3.12.0"
  }
 },
 "nbformat": 4,
 "nbformat_minor": 2
}
