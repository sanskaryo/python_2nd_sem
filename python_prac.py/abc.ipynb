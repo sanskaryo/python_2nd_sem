{
 "cells": [
  {
   "cell_type": "code",
   "execution_count": 10,
   "metadata": {},
   "outputs": [
    {
     "name": "stdout",
     "output_type": "stream",
     "text": [
      "3\n",
      "None\n"
     ]
    }
   ],
   "source": [
    "def apna_fun(x):\n",
    "    print(x)\n",
    "    \n",
    "    \n",
    "    \n",
    "x= map(apna_fun,[3,10,31])\n",
    "print(next(x))"
   ]
  },
  {
   "cell_type": "code",
   "execution_count": null,
   "metadata": {},
   "outputs": [],
   "source": []
  },
  {
   "cell_type": "code",
   "execution_count": 25,
   "metadata": {},
   "outputs": [
    {
     "name": "stdout",
     "output_type": "stream",
     "text": [
      "6\n"
     ]
    }
   ],
   "source": [
    "def apna_fun(x):\n",
    "    return x\n",
    "    \n",
    "    \n",
    "    \n",
    "x= map(apna_fun,[3,10,31])\n",
    "print(next(x))"
   ]
  },
  {
   "cell_type": "code",
   "execution_count": 29,
   "metadata": {},
   "outputs": [
    {
     "name": "stdout",
     "output_type": "stream",
     "text": [
      "3\n",
      "None\n"
     ]
    }
   ],
   "source": [
    "def apna_fun(x):\n",
    "    print(x) \n",
    "    \n",
    "    \n",
    "    \n",
    "x= map(apna_fun,[3,10,31])\n",
    "print(next(x))"
   ]
  },
  {
   "cell_type": "code",
   "execution_count": 13,
   "metadata": {},
   "outputs": [
    {
     "name": "stdout",
     "output_type": "stream",
     "text": [
      "[3, 10, 31]\n"
     ]
    }
   ],
   "source": [
    "def apna_fun(x):\n",
    "    return x\n",
    "    \n",
    "    \n",
    "    \n",
    "x= map(apna_fun,[3,10,31])\n",
    "print(list(x))"
   ]
  },
  {
   "cell_type": "code",
   "execution_count": null,
   "metadata": {},
   "outputs": [],
   "source": [
    "def apna_fun(x):\n",
    "    print(x)\n",
    "    \n",
    "    \n",
    "    \n",
    "x= map(apna_fun,[3,10,31])\n"
   ]
  }
 ],
 "metadata": {
  "kernelspec": {
   "display_name": "Python 3",
   "language": "python",
   "name": "python3"
  },
  "language_info": {
   "codemirror_mode": {
    "name": "ipython",
    "version": 3
   },
   "file_extension": ".py",
   "mimetype": "text/x-python",
   "name": "python",
   "nbconvert_exporter": "python",
   "pygments_lexer": "ipython3",
   "version": "3.12.0"
  }
 },
 "nbformat": 4,
 "nbformat_minor": 2
}
